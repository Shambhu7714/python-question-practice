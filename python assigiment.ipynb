{
 "cells": [
  {
   "attachments": {},
   "cell_type": "markdown",
   "metadata": {},
   "source": [
    "1. Write a program to compute 1/2+2/3+3/4+...+n/n+1 with a given n input by console (n>0)"
   ]
  },
  {
   "cell_type": "code",
   "execution_count": 5,
   "metadata": {},
   "outputs": [
    {
     "name": "stdout",
     "output_type": "stream",
     "text": [
      "result of given number 41.58331275401388\n"
     ]
    }
   ],
   "source": [
    "num = int(input(\"enter a positive number \"))\n",
    "sum=0\n",
    "for i in range(1,num+1):\n",
    "    sum += i/(i+1)\n",
    "print(\"result of given number\", sum)"
   ]
  },
  {
   "attachments": {},
   "cell_type": "markdown",
   "metadata": {},
   "source": [
    "2. Define a class named Circle which can be constructed by a radius. The Circle class has a method which can\n",
    "compute the area."
   ]
  },
  {
   "cell_type": "code",
   "execution_count": 14,
   "metadata": {},
   "outputs": [
    {
     "name": "stdout",
     "output_type": "stream",
     "text": [
      "12.56636\n"
     ]
    }
   ],
   "source": [
    "class circle:\n",
    "    def __init__(self , radius):\n",
    "        self.r = radius\n",
    "        \n",
    "    def area(self):\n",
    "        return 3.14159* self.r ** 2  \n",
    "c=circle(2)\n",
    "print(c.area())      \n",
    "        \n",
    "        "
   ]
  },
  {
   "attachments": {},
   "cell_type": "markdown",
   "metadata": {},
   "source": [
    "3. Write a program which accepts a string as input to print \"Yes\" if the string is \"yes\" or \"YES\" or \"Yes\",\n",
    "otherwise print \"No\"."
   ]
  },
  {
   "cell_type": "code",
   "execution_count": 23,
   "metadata": {},
   "outputs": [
    {
     "name": "stdout",
     "output_type": "stream",
     "text": [
      "Yes\n"
     ]
    }
   ],
   "source": [
    "num=str(input(\"user the string \"))\n",
    "if num == \"yes\" or num== \"YES\" or num== \"Yes\":\n",
    "    print(\"Yes\")\n",
    "else:\n",
    "    print(\"No\")\n",
    "    "
   ]
  },
  {
   "attachments": {},
   "cell_type": "markdown",
   "metadata": {},
   "source": [
    "4. Define a function that can accept two strings as input and concatenate them and then print it in the\n",
    "console."
   ]
  },
  {
   "cell_type": "code",
   "execution_count": 25,
   "metadata": {},
   "outputs": [
    {
     "name": "stdout",
     "output_type": "stream",
     "text": [
      "helloshambhu\n"
     ]
    }
   ],
   "source": [
    "def num_strings(str1,str2):\n",
    "    num_strings = str1 + str2 \n",
    "    print(num_strings)\n",
    "num_strings(\"hello\",\"shambhu\")"
   ]
  },
  {
   "attachments": {},
   "cell_type": "markdown",
   "metadata": {},
   "source": [
    "5. Define a function that can convert an integer into a string and print it in the console."
   ]
  },
  {
   "cell_type": "code",
   "execution_count": 33,
   "metadata": {},
   "outputs": [
    {
     "name": "stdout",
     "output_type": "stream",
     "text": [
      "Yes\n"
     ]
    }
   ],
   "source": [
    "def convert(number):\n",
    "    string= str(num)\n",
    "    print(string)\n",
    "convert(45)"
   ]
  }
 ],
 "metadata": {
  "kernelspec": {
   "display_name": "Python 3",
   "language": "python",
   "name": "python3"
  },
  "language_info": {
   "codemirror_mode": {
    "name": "ipython",
    "version": 3
   },
   "file_extension": ".py",
   "mimetype": "text/x-python",
   "name": "python",
   "nbconvert_exporter": "python",
   "pygments_lexer": "ipython3",
   "version": "3.10.10"
  },
  "orig_nbformat": 4
 },
 "nbformat": 4,
 "nbformat_minor": 2
}
